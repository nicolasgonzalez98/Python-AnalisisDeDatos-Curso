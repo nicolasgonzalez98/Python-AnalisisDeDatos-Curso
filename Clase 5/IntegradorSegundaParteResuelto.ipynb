{
 "cells": [
  {
   "cell_type": "markdown",
   "metadata": {},
   "source": [
    "# Ejercicio Integrador Segunda parte\n",
    "\n",
    "## Delitos En la Ciudad de Buenos Aires\n",
    "\n",
    "### Este trabajo trata de analizar esta problemática con las herramientas vistas en el curso"
   ]
  },
  {
   "cell_type": "markdown",
   "metadata": {},
   "source": [
    "![\"Imagen de Buenos Aires\"](https://www.buenosaires.gob.ar/sites/gcaba/files/field/image/20190218_9dejulio_dji_0388_2.jpg \"Ciudad de Buenos Aires\")"
   ]
  },
  {
   "cell_type": "code",
   "execution_count": 1,
   "metadata": {},
   "outputs": [],
   "source": [
    "#incluimos los módulos y sub módulos que vamos a usar a lo largo del curso\n",
    "import numpy as np\n",
    "import pandas as pd\n",
    "import matplotlib.pyplot as plt"
   ]
  },
  {
   "cell_type": "code",
   "execution_count": 4,
   "metadata": {},
   "outputs": [
    {
     "data": {
      "text/html": [
       "<div>\n",
       "<style scoped>\n",
       "    .dataframe tbody tr th:only-of-type {\n",
       "        vertical-align: middle;\n",
       "    }\n",
       "\n",
       "    .dataframe tbody tr th {\n",
       "        vertical-align: top;\n",
       "    }\n",
       "\n",
       "    .dataframe thead th {\n",
       "        text-align: right;\n",
       "    }\n",
       "</style>\n",
       "<table border=\"1\" class=\"dataframe\">\n",
       "  <thead>\n",
       "    <tr style=\"text-align: right;\">\n",
       "      <th></th>\n",
       "      <th>id</th>\n",
       "      <th>fecha</th>\n",
       "      <th>franja_horaria</th>\n",
       "      <th>tipo_delito</th>\n",
       "      <th>subtipo_delito</th>\n",
       "      <th>cantidad_registrada</th>\n",
       "      <th>comuna</th>\n",
       "      <th>barrio</th>\n",
       "      <th>lat</th>\n",
       "      <th>long</th>\n",
       "    </tr>\n",
       "  </thead>\n",
       "  <tbody>\n",
       "    <tr>\n",
       "      <th>0</th>\n",
       "      <td>374556</td>\n",
       "      <td>2019-01-01</td>\n",
       "      <td>12</td>\n",
       "      <td>Lesiones</td>\n",
       "      <td>Siniestro Vial</td>\n",
       "      <td>1.0</td>\n",
       "      <td>4.0</td>\n",
       "      <td>Nueva Pompeya</td>\n",
       "      <td>-34.648387</td>\n",
       "      <td>-58.404748</td>\n",
       "    </tr>\n",
       "    <tr>\n",
       "      <th>1</th>\n",
       "      <td>426152</td>\n",
       "      <td>2019-01-01</td>\n",
       "      <td>6</td>\n",
       "      <td>Robo (con violencia)</td>\n",
       "      <td>NaN</td>\n",
       "      <td>1.0</td>\n",
       "      <td>9.0</td>\n",
       "      <td>Liniers</td>\n",
       "      <td>-34.649827</td>\n",
       "      <td>-58.513859</td>\n",
       "    </tr>\n",
       "    <tr>\n",
       "      <th>2</th>\n",
       "      <td>371604</td>\n",
       "      <td>2019-01-01</td>\n",
       "      <td>8</td>\n",
       "      <td>Lesiones</td>\n",
       "      <td>Siniestro Vial</td>\n",
       "      <td>1.0</td>\n",
       "      <td>15.0</td>\n",
       "      <td>Chacarita</td>\n",
       "      <td>-34.588108</td>\n",
       "      <td>-58.439392</td>\n",
       "    </tr>\n",
       "    <tr>\n",
       "      <th>3</th>\n",
       "      <td>425359</td>\n",
       "      <td>2019-01-01</td>\n",
       "      <td>16</td>\n",
       "      <td>Hurto (sin violencia)</td>\n",
       "      <td>Hurto Automotor</td>\n",
       "      <td>1.0</td>\n",
       "      <td>10.0</td>\n",
       "      <td>Floresta</td>\n",
       "      <td>-34.631877</td>\n",
       "      <td>-58.483975</td>\n",
       "    </tr>\n",
       "    <tr>\n",
       "      <th>4</th>\n",
       "      <td>437571</td>\n",
       "      <td>2019-01-01</td>\n",
       "      <td>2</td>\n",
       "      <td>Robo (con violencia)</td>\n",
       "      <td>Robo Automotor</td>\n",
       "      <td>1.0</td>\n",
       "      <td>4.0</td>\n",
       "      <td>Parque Patricios</td>\n",
       "      <td>-34.633161</td>\n",
       "      <td>-58.397123</td>\n",
       "    </tr>\n",
       "    <tr>\n",
       "      <th>...</th>\n",
       "      <td>...</td>\n",
       "      <td>...</td>\n",
       "      <td>...</td>\n",
       "      <td>...</td>\n",
       "      <td>...</td>\n",
       "      <td>...</td>\n",
       "      <td>...</td>\n",
       "      <td>...</td>\n",
       "      <td>...</td>\n",
       "      <td>...</td>\n",
       "    </tr>\n",
       "    <tr>\n",
       "      <th>117656</th>\n",
       "      <td>486770</td>\n",
       "      <td>2019-12-31</td>\n",
       "      <td>18</td>\n",
       "      <td>Robo (con violencia)</td>\n",
       "      <td>Robo Automotor</td>\n",
       "      <td>1.0</td>\n",
       "      <td>8.0</td>\n",
       "      <td>Villa Riachuelo</td>\n",
       "      <td>-34.692347</td>\n",
       "      <td>-58.472299</td>\n",
       "    </tr>\n",
       "    <tr>\n",
       "      <th>117657</th>\n",
       "      <td>486678</td>\n",
       "      <td>2019-12-31</td>\n",
       "      <td>4</td>\n",
       "      <td>Robo (con violencia)</td>\n",
       "      <td>Robo Automotor</td>\n",
       "      <td>1.0</td>\n",
       "      <td>5.0</td>\n",
       "      <td>Boedo</td>\n",
       "      <td>-34.626424</td>\n",
       "      <td>-58.422846</td>\n",
       "    </tr>\n",
       "    <tr>\n",
       "      <th>117658</th>\n",
       "      <td>486668</td>\n",
       "      <td>2019-12-31</td>\n",
       "      <td>1</td>\n",
       "      <td>Robo (con violencia)</td>\n",
       "      <td>Robo Automotor</td>\n",
       "      <td>1.0</td>\n",
       "      <td>1.0</td>\n",
       "      <td>Monserrat</td>\n",
       "      <td>-34.615892</td>\n",
       "      <td>-58.370573</td>\n",
       "    </tr>\n",
       "    <tr>\n",
       "      <th>117659</th>\n",
       "      <td>486750</td>\n",
       "      <td>2019-12-31</td>\n",
       "      <td>14</td>\n",
       "      <td>Robo (con violencia)</td>\n",
       "      <td>Robo Automotor</td>\n",
       "      <td>1.0</td>\n",
       "      <td>15.0</td>\n",
       "      <td>Villa Crespo</td>\n",
       "      <td>-34.602577</td>\n",
       "      <td>-58.433145</td>\n",
       "    </tr>\n",
       "    <tr>\n",
       "      <th>117660</th>\n",
       "      <td>486683</td>\n",
       "      <td>2019-12-31</td>\n",
       "      <td>7</td>\n",
       "      <td>Robo (con violencia)</td>\n",
       "      <td>Robo Automotor</td>\n",
       "      <td>1.0</td>\n",
       "      <td>8.0</td>\n",
       "      <td>Villa Lugano</td>\n",
       "      <td>-34.674789</td>\n",
       "      <td>-58.466394</td>\n",
       "    </tr>\n",
       "  </tbody>\n",
       "</table>\n",
       "<p>117661 rows × 10 columns</p>\n",
       "</div>"
      ],
      "text/plain": [
       "            id       fecha franja_horaria            tipo_delito  \\\n",
       "0       374556  2019-01-01             12               Lesiones   \n",
       "1       426152  2019-01-01              6   Robo (con violencia)   \n",
       "2       371604  2019-01-01              8               Lesiones   \n",
       "3       425359  2019-01-01             16  Hurto (sin violencia)   \n",
       "4       437571  2019-01-01              2   Robo (con violencia)   \n",
       "...        ...         ...            ...                    ...   \n",
       "117656  486770  2019-12-31             18   Robo (con violencia)   \n",
       "117657  486678  2019-12-31              4   Robo (con violencia)   \n",
       "117658  486668  2019-12-31              1   Robo (con violencia)   \n",
       "117659  486750  2019-12-31             14   Robo (con violencia)   \n",
       "117660  486683  2019-12-31              7   Robo (con violencia)   \n",
       "\n",
       "         subtipo_delito  cantidad_registrada  comuna            barrio  \\\n",
       "0        Siniestro Vial                  1.0     4.0     Nueva Pompeya   \n",
       "1                   NaN                  1.0     9.0           Liniers   \n",
       "2        Siniestro Vial                  1.0    15.0         Chacarita   \n",
       "3       Hurto Automotor                  1.0    10.0          Floresta   \n",
       "4        Robo Automotor                  1.0     4.0  Parque Patricios   \n",
       "...                 ...                  ...     ...               ...   \n",
       "117656   Robo Automotor                  1.0     8.0   Villa Riachuelo   \n",
       "117657   Robo Automotor                  1.0     5.0             Boedo   \n",
       "117658   Robo Automotor                  1.0     1.0         Monserrat   \n",
       "117659   Robo Automotor                  1.0    15.0      Villa Crespo   \n",
       "117660   Robo Automotor                  1.0     8.0      Villa Lugano   \n",
       "\n",
       "              lat       long  \n",
       "0      -34.648387 -58.404748  \n",
       "1      -34.649827 -58.513859  \n",
       "2      -34.588108 -58.439392  \n",
       "3      -34.631877 -58.483975  \n",
       "4      -34.633161 -58.397123  \n",
       "...           ...        ...  \n",
       "117656 -34.692347 -58.472299  \n",
       "117657 -34.626424 -58.422846  \n",
       "117658 -34.615892 -58.370573  \n",
       "117659 -34.602577 -58.433145  \n",
       "117660 -34.674789 -58.466394  \n",
       "\n",
       "[117661 rows x 10 columns]"
      ]
     },
     "execution_count": 4,
     "metadata": {},
     "output_type": "execute_result"
    }
   ],
   "source": [
    "delitos = pd.read_csv(r\"C:\\Users\\Distancia\\Desktop\\DATOSultima\\delitos\\delitos2019.csv\")\n",
    "delitos"
   ]
  },
  {
   "cell_type": "code",
   "execution_count": 5,
   "metadata": {},
   "outputs": [
    {
     "name": "stdout",
     "output_type": "stream",
     "text": [
      "<class 'pandas.core.frame.DataFrame'>\n",
      "RangeIndex: 117661 entries, 0 to 117660\n",
      "Data columns (total 10 columns):\n",
      " #   Column               Non-Null Count   Dtype  \n",
      "---  ------               --------------   -----  \n",
      " 0   id                   117661 non-null  int64  \n",
      " 1   fecha                117661 non-null  object \n",
      " 2   franja_horaria       117661 non-null  object \n",
      " 3   tipo_delito          117661 non-null  object \n",
      " 4   subtipo_delito       11676 non-null   object \n",
      " 5   cantidad_registrada  117661 non-null  float64\n",
      " 6   comuna               117064 non-null  float64\n",
      " 7   barrio               117064 non-null  object \n",
      " 8   lat                  117064 non-null  float64\n",
      " 9   long                 117064 non-null  float64\n",
      "dtypes: float64(4), int64(1), object(5)\n",
      "memory usage: 9.0+ MB\n"
     ]
    }
   ],
   "source": [
    "delitos.info()"
   ]
  },
  {
   "cell_type": "markdown",
   "metadata": {},
   "source": [
    "### La cantidad de delitos totales denunciados en el 2019"
   ]
  },
  {
   "cell_type": "code",
   "execution_count": 13,
   "metadata": {},
   "outputs": [
    {
     "data": {
      "text/plain": [
       "117668.0"
      ]
     },
     "execution_count": 13,
     "metadata": {},
     "output_type": "execute_result"
    }
   ],
   "source": [
    "delitos[\"cantidad_registrada\"].sum()"
   ]
  },
  {
   "cell_type": "markdown",
   "metadata": {},
   "source": [
    "#### El top 5 de barrios con más delitos"
   ]
  },
  {
   "cell_type": "code",
   "execution_count": 10,
   "metadata": {},
   "outputs": [
    {
     "data": {
      "text/plain": [
       "Palermo        9559\n",
       "Balvanera      9239\n",
       "San Nicolás    6246\n",
       "Recoleta       5589\n",
       "Flores         5518\n",
       "Name: barrio, dtype: int64"
      ]
     },
     "execution_count": 10,
     "metadata": {},
     "output_type": "execute_result"
    }
   ],
   "source": [
    "delitos[\"barrio\"].value_counts().head(5)"
   ]
  },
  {
   "cell_type": "markdown",
   "metadata": {},
   "source": [
    "#### El top 5 de barrios con menos delitos"
   ]
  },
  {
   "cell_type": "code",
   "execution_count": 12,
   "metadata": {},
   "outputs": [
    {
     "data": {
      "text/plain": [
       "Coghlan          476\n",
       "Agronomía        454\n",
       "Versalles        392\n",
       "Villa Real       343\n",
       "Puerto Madero    283\n",
       "Name: barrio, dtype: int64"
      ]
     },
     "execution_count": 12,
     "metadata": {},
     "output_type": "execute_result"
    }
   ],
   "source": [
    "delitos[\"barrio\"].value_counts().tail(5)"
   ]
  },
  {
   "cell_type": "markdown",
   "metadata": {},
   "source": [
    "### Los horarios del delito"
   ]
  },
  {
   "cell_type": "code",
   "execution_count": 23,
   "metadata": {},
   "outputs": [
    {
     "data": {
      "text/plain": [
       "18     7415\n",
       "19     7224\n",
       "20     6990\n",
       "17     6612\n",
       "16     6518\n",
       "14     6458\n",
       "12     6407\n",
       "21     6337\n",
       "15     6315\n",
       "13     6044\n",
       "10     5536\n",
       "11     5527\n",
       "22     5449\n",
       "8      5122\n",
       "9      4931\n",
       "23     4500\n",
       "7      3897\n",
       "0      3073\n",
       "6      2998\n",
       "1      2445\n",
       "5      2357\n",
       "2      1965\n",
       "4      1814\n",
       "3      1719\n",
       "S/D       8\n",
       "Name: franja_horaria, dtype: int64"
      ]
     },
     "execution_count": 23,
     "metadata": {},
     "output_type": "execute_result"
    }
   ],
   "source": [
    "delitos[\"franja_horaria\"].value_counts()"
   ]
  }
 ],
 "metadata": {
  "kernelspec": {
   "display_name": "Python 3 (ipykernel)",
   "language": "python",
   "name": "python3"
  },
  "language_info": {
   "codemirror_mode": {
    "name": "ipython",
    "version": 3
   },
   "file_extension": ".py",
   "mimetype": "text/x-python",
   "name": "python",
   "nbconvert_exporter": "python",
   "pygments_lexer": "ipython3",
   "version": "3.9.7"
  }
 },
 "nbformat": 4,
 "nbformat_minor": 4
}
