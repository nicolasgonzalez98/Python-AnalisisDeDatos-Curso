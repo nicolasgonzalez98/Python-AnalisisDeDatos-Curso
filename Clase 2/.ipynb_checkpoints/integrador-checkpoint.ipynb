{
 "cells": [
  {
   "cell_type": "markdown",
   "id": "bc8dd7a7",
   "metadata": {},
   "source": [
    "<h1>Ejercicio integrador primera parte</h1>\n",
    "<h2>Delitos en la Ciudad de Buenos Aires</h2>\n",
    "<h3>Este trabajo trata de analizar esta problematica con las herramientas vistas en el curso.</h3>\n",
    "![Buenos Aires]('https://www.buenosaires.gob.ar/sites/gcaba/files/field/image/20190218_9dejulio_dji_0388_2.jpg')"
   ]
  }
 ],
 "metadata": {
  "kernelspec": {
   "display_name": "Python 3 (ipykernel)",
   "language": "python",
   "name": "python3"
  },
  "language_info": {
   "codemirror_mode": {
    "name": "ipython",
    "version": 3
   },
   "file_extension": ".py",
   "mimetype": "text/x-python",
   "name": "python",
   "nbconvert_exporter": "python",
   "pygments_lexer": "ipython3",
   "version": "3.9.7"
  }
 },
 "nbformat": 4,
 "nbformat_minor": 5
}
