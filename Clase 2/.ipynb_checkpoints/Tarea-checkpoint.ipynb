{
 "cells": [
  {
   "cell_type": "code",
   "execution_count": 8,
   "id": "40cc6a43",
   "metadata": {},
   "outputs": [],
   "source": [
    "###Ejercicio 1\n",
    "\n",
    "def apariciones(iterable):\n",
    "    cantidades = {}\n",
    "    for letra in iterable:\n",
    "        if letra in cantidades:\n",
    "            cantidades[letra] += 1\n",
    "        else:\n",
    "            cantidades[letra] = 1\n",
    "    return cantidades\n",
    "\n"
   ]
  },
  {
   "cell_type": "code",
   "execution_count": 10,
   "id": "dfeb3a51",
   "metadata": {},
   "outputs": [],
   "source": [
    "##Ejercicio 2\n",
    "\n",
    "def suma_acotados(*args,cota = None):\n",
    "    if cota == None:\n",
    "        suma = 0\n",
    "        for num in args:\n",
    "            suma += num\n",
    "    else:\n",
    "        suma = 0\n",
    "        for num in args:\n",
    "            if -cota <= num <= cota:\n",
    "                suma += num\n",
    "    return suma"
   ]
  },
  {
   "cell_type": "code",
   "execution_count": 11,
   "id": "8681f7ac",
   "metadata": {},
   "outputs": [
    {
     "name": "stdout",
     "output_type": "stream",
     "text": [
      "63\n",
      "25\n"
     ]
    }
   ],
   "source": [
    "print(suma_acotados(6,2,3,8,9,7,5,1,3,2,5,4,8))\n",
    "print(suma_acotados(6,2,3,8,9,7,5,1,3,2,5,4,8, cota=5))"
   ]
  },
  {
   "cell_type": "code",
   "execution_count": 18,
   "id": "413815a0",
   "metadata": {},
   "outputs": [
    {
     "data": {
      "text/plain": [
       "['Zapatillas', 'Campera', 'Mochila', 'Jean']"
      ]
     },
     "execution_count": 18,
     "metadata": {},
     "output_type": "execute_result"
    }
   ],
   "source": [
    "##Ejercicio 3\n",
    "\n",
    "productos = [(\"Campera\", 3500), (\"Mochila\", 2400), (\"Zapatillas\", 5200), (\"Jean\", 1600)]\n",
    "\n",
    "list(map(lambda x:x[0], sorted(productos, key = lambda x:x[1], reverse = True)))"
   ]
  }
 ],
 "metadata": {
  "kernelspec": {
   "display_name": "Python 3 (ipykernel)",
   "language": "python",
   "name": "python3"
  },
  "language_info": {
   "codemirror_mode": {
    "name": "ipython",
    "version": 3
   },
   "file_extension": ".py",
   "mimetype": "text/x-python",
   "name": "python",
   "nbconvert_exporter": "python",
   "pygments_lexer": "ipython3",
   "version": "3.9.7"
  }
 },
 "nbformat": 4,
 "nbformat_minor": 5
}
