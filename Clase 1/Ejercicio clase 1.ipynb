{
 "cells": [
  {
   "cell_type": "markdown",
   "id": "051dc9a3",
   "metadata": {},
   "source": [
    "Ejercicio 1\n",
    "Dada una lista de números encontrar el promedio\n",
    "de sus elementos:\n",
    "1. Sin usar ninguna función.\n",
    "2. Usando funciones incorporadas de Python."
   ]
  },
  {
   "cell_type": "code",
   "execution_count": 3,
   "id": "dea5d70c",
   "metadata": {},
   "outputs": [
    {
     "name": "stdout",
     "output_type": "stream",
     "text": [
      "El promedio de la lista es de 5.5\n"
     ]
    }
   ],
   "source": [
    "numeros = [1,2,3,4,5,6,7,8,9,10]\n",
    "\n",
    "suma = 0\n",
    "length = 0\n",
    "\n",
    "for num in numeros:\n",
    "    suma+=num\n",
    "    length += 1\n",
    "\n",
    "print(f'El promedio de la lista es de {suma/length}')"
   ]
  },
  {
   "cell_type": "code",
   "execution_count": 4,
   "id": "a4fcb1b0",
   "metadata": {},
   "outputs": [
    {
     "name": "stdout",
     "output_type": "stream",
     "text": [
      "El promedio de la lista es de 5.5\n"
     ]
    }
   ],
   "source": [
    "numeros = [1,2,3,4,5,6,7,8,9,10]\n",
    "print(f'El promedio de la lista es de {sum(numeros)/len(numeros)}')"
   ]
  },
  {
   "cell_type": "markdown",
   "id": "a0bbe248",
   "metadata": {},
   "source": [
    "Crear una lista con los primeros 10 múltiplos de 5:\n",
    "1. Usando bucles tradicionales.\n",
    "2. Usando listas por comprensión."
   ]
  },
  {
   "cell_type": "code",
   "execution_count": 8,
   "id": "bd75f4be",
   "metadata": {},
   "outputs": [
    {
     "name": "stdout",
     "output_type": "stream",
     "text": [
      "[5, 10, 15, 20, 25, 30, 35, 40, 45, 50]\n"
     ]
    }
   ],
   "source": [
    "multiplos = []\n",
    "\n",
    "for num in range(1,11):\n",
    "    multiplos.append(num*5)\n",
    "\n",
    "print(multiplos)"
   ]
  },
  {
   "cell_type": "code",
   "execution_count": 9,
   "id": "e467b684",
   "metadata": {},
   "outputs": [
    {
     "data": {
      "text/plain": [
       "[5, 10, 15, 20, 25, 30, 35, 40, 45, 50]"
      ]
     },
     "execution_count": 9,
     "metadata": {},
     "output_type": "execute_result"
    }
   ],
   "source": [
    "multiplos = [5 * i for i in range(1,11)]\n",
    "\n",
    "multiplos"
   ]
  },
  {
   "cell_type": "markdown",
   "id": "e8549994",
   "metadata": {},
   "source": [
    "Ejercicio 3\n",
    "Dadas dos listas, crear otra que tenga los elementos\n",
    "que están en la primera y que no están en la segunda:\n",
    "1. Usando bucles tradicionales.\n",
    "2. Usando listas por comprensión.\n",
    "Cada elemento debe aparecer tantas veces como en\n",
    "la lista original.\n"
   ]
  },
  {
   "cell_type": "code",
   "execution_count": 10,
   "id": "620f4e60",
   "metadata": {},
   "outputs": [
    {
     "data": {
      "text/plain": [
       "[0, 1, 2, 3, 2, 3, 1, 3]"
      ]
     },
     "execution_count": 10,
     "metadata": {},
     "output_type": "execute_result"
    }
   ],
   "source": [
    "lista1 = [0,1,2,3,2,3,1,5,4,5,4,6,3,5]\n",
    "lista2 = [4,5,6,7,8,9]\n",
    "nueva_lista = []\n",
    "\n",
    "for num in lista1:\n",
    "    if num not in lista2:\n",
    "        nueva_lista.append(num)\n",
    "        \n",
    "nueva_lista"
   ]
  },
  {
   "cell_type": "code",
   "execution_count": 17,
   "id": "4e06f22f",
   "metadata": {},
   "outputs": [
    {
     "data": {
      "text/plain": [
       "[0, 1, 2, 3, 2, 3, 1, 3]"
      ]
     },
     "execution_count": 17,
     "metadata": {},
     "output_type": "execute_result"
    }
   ],
   "source": [
    "lista1 = [0,1,2,3,2,3,1,5,4,5,4,6,3,5]\n",
    "lista2 = [4,5,6,7,8,9]\n",
    "nueva = [num for num in lista1 if num not in lista2]\n",
    "nueva\n",
    "\n"
   ]
  }
 ],
 "metadata": {
  "kernelspec": {
   "display_name": "Python 3 (ipykernel)",
   "language": "python",
   "name": "python3"
  },
  "language_info": {
   "codemirror_mode": {
    "name": "ipython",
    "version": 3
   },
   "file_extension": ".py",
   "mimetype": "text/x-python",
   "name": "python",
   "nbconvert_exporter": "python",
   "pygments_lexer": "ipython3",
   "version": "3.9.7"
  }
 },
 "nbformat": 4,
 "nbformat_minor": 5
}
