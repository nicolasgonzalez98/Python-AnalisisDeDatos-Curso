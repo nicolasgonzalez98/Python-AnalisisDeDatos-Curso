{
 "cells": [
  {
   "cell_type": "markdown",
   "id": "f49c3b77",
   "metadata": {},
   "source": [
    "Ejercicio 1\n",
    "Dada una lista de números encontrar el promedio\n",
    "de sus elementos:\n",
    "1. Sin usar ninguna función.\n",
    "2. Usando funciones incorporadas de Python."
   ]
  },
  {
   "cell_type": "code",
   "execution_count": 1,
   "id": "9cadeef9",
   "metadata": {},
   "outputs": [
    {
     "name": "stdout",
     "output_type": "stream",
     "text": [
      "El promedio de la lista es de 5.5\n"
     ]
    }
   ],
   "source": [
    "numeros = [1,2,3,4,5,6,7,8,9,10]\n",
    "\n",
    "suma = 0\n",
    "length = 0\n",
    "\n",
    "for num in numeros:\n",
    "    suma+=num\n",
    "    length += 1\n",
    "\n",
    "print(f'El promedio de la lista es de {suma/length}')"
   ]
  },
  {
   "cell_type": "code",
   "execution_count": 2,
   "id": "f131456c",
   "metadata": {},
   "outputs": [
    {
     "name": "stdout",
     "output_type": "stream",
     "text": [
      "El promedio de la lista es de 5.5\n"
     ]
    }
   ],
   "source": [
    "numeros = [1,2,3,4,5,6,7,8,9,10]\n",
    "print(f'El promedio de la lista es de {sum(numeros)/len(numeros)}')"
   ]
  }
 ],
 "metadata": {
  "kernelspec": {
   "display_name": "Python 3 (ipykernel)",
   "language": "python",
   "name": "python3"
  },
  "language_info": {
   "codemirror_mode": {
    "name": "ipython",
    "version": 3
   },
   "file_extension": ".py",
   "mimetype": "text/x-python",
   "name": "python",
   "nbconvert_exporter": "python",
   "pygments_lexer": "ipython3",
   "version": "3.9.7"
  }
 },
 "nbformat": 4,
 "nbformat_minor": 5
}
