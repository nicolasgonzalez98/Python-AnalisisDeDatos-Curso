{
 "cells": [
  {
   "cell_type": "markdown",
   "id": "d3904143",
   "metadata": {},
   "source": [
    "<h1>Ejercicio 1</h1>"
   ]
  },
  {
   "cell_type": "markdown",
   "id": "95bb6564",
   "metadata": {},
   "source": [
    "<p>\n",
    "A. Construir arrays a partir de una lista simple\n",
    "y una lista anidada usando tipos de datos\n",
    "numéricos distintos para cada una.\n",
    "B. Construir un array lineal de 36 elementos.\n",
    "Cambiar el shape para que tenga:\n",
    "● 3 filas y 12 columnas\n",
    "● 4 columnas\n",
    "</p>"
   ]
  },
  {
   "cell_type": "code",
   "execution_count": 2,
   "id": "a6a986bf",
   "metadata": {},
   "outputs": [],
   "source": [
    "import numpy as np"
   ]
  },
  {
   "cell_type": "code",
   "execution_count": 6,
   "id": "71e08b16",
   "metadata": {},
   "outputs": [],
   "source": [
    "##Parte 1\n",
    "simple = [1,2,3,4,5]\n",
    "anidada = [[10,9,6,7,8],[20,21,22,23,25]]\n",
    "\n",
    "asimple = np.array(simple)\n",
    "amatriz = np.array(anidada)"
   ]
  },
  {
   "cell_type": "code",
   "execution_count": 13,
   "id": "381ff9b4",
   "metadata": {},
   "outputs": [],
   "source": [
    "##Parte 2\n",
    "matriz36 = np.arange(36)\n",
    "matriz36\n",
    "matriz2 = matriz36.reshape(3,12)##12 columnas\n",
    "matriz3 = matriz36.reshape(9,4)##4 columnas"
   ]
  },
  {
   "cell_type": "markdown",
   "id": "8d3d6ae3",
   "metadata": {},
   "source": [
    "<h1>Ejercicio 2</h1>\n",
    "<p>Dado un vector de pesos(kg) y otro vector\n",
    "alturas(metros), calcular el índice de masa\n",
    "corporal general (un vector imc).</p>"
   ]
  },
  {
   "cell_type": "code",
   "execution_count": 16,
   "id": "03fceaa6",
   "metadata": {},
   "outputs": [
    {
     "data": {
      "text/plain": [
       "array([19.53125   , 22.66435986, 27.5308642 , 32.65306122])"
      ]
     },
     "execution_count": 16,
     "metadata": {},
     "output_type": "execute_result"
    }
   ],
   "source": [
    "pesos = np.array([50,65.5,89.2,100])\n",
    "alturas = np.array([1.6,1.7,1.8,1.75])\n",
    "\n",
    "imc = pesos/(alturas)**2\n",
    "imc\n"
   ]
  },
  {
   "cell_type": "code",
   "execution_count": null,
   "id": "5d556d2e",
   "metadata": {},
   "outputs": [],
   "source": []
  }
 ],
 "metadata": {
  "kernelspec": {
   "display_name": "Python 3 (ipykernel)",
   "language": "python",
   "name": "python3"
  },
  "language_info": {
   "codemirror_mode": {
    "name": "ipython",
    "version": 3
   },
   "file_extension": ".py",
   "mimetype": "text/x-python",
   "name": "python",
   "nbconvert_exporter": "python",
   "pygments_lexer": "ipython3",
   "version": "3.9.7"
  }
 },
 "nbformat": 4,
 "nbformat_minor": 5
}
