{
 "cells": [
  {
   "cell_type": "markdown",
   "id": "b4f30e03",
   "metadata": {},
   "source": [
    "<h1>Ejercicio 1</h1>"
   ]
  },
  {
   "cell_type": "markdown",
   "id": "db3cf2f2",
   "metadata": {},
   "source": [
    "<p>\n",
    "A. Construir arrays a partir de una lista simple\n",
    "y una lista anidada usando tipos de datos\n",
    "numéricos distintos para cada una.\n",
    "B. Construir un array lineal de 36 elementos.\n",
    "Cambiar el shape para que tenga:\n",
    "● 3 filas y 12 columnas\n",
    "● 4 columnas\n",
    "</p>"
   ]
  },
  {
   "cell_type": "code",
   "execution_count": 2,
   "id": "c842c918",
   "metadata": {},
   "outputs": [],
   "source": [
    "import numpy as np"
   ]
  },
  {
   "cell_type": "code",
   "execution_count": 6,
   "id": "35f84006",
   "metadata": {},
   "outputs": [],
   "source": [
    "##Parte 1\n",
    "simple = [1,2,3,4,5]\n",
    "anidada = [[10,9,6,7,8],[20,21,22,23,25]]\n",
    "\n",
    "asimple = np.array(simple)\n",
    "amatriz = np.array(anidada)"
   ]
  },
  {
   "cell_type": "code",
   "execution_count": null,
   "id": "a8c6697e",
   "metadata": {},
   "outputs": [],
   "source": [
    "##Parte 2"
   ]
  }
 ],
 "metadata": {
  "kernelspec": {
   "display_name": "Python 3 (ipykernel)",
   "language": "python",
   "name": "python3"
  },
  "language_info": {
   "codemirror_mode": {
    "name": "ipython",
    "version": 3
   },
   "file_extension": ".py",
   "mimetype": "text/x-python",
   "name": "python",
   "nbconvert_exporter": "python",
   "pygments_lexer": "ipython3",
   "version": "3.9.7"
  }
 },
 "nbformat": 4,
 "nbformat_minor": 5
}
